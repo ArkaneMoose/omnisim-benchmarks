{
 "cells": [
  {
   "cell_type": "code",
   "execution_count": 1,
   "id": "9fd587c0",
   "metadata": {},
   "outputs": [],
   "source": [
    "from math import nan\n",
    "from pathlib import Path\n",
    "import re\n",
    "import zipfile\n",
    "import numpy as np\n",
    "import pandas as pd\n",
    "import seaborn as sns\n",
    "import matplotlib.pyplot as plt"
   ]
  },
  {
   "cell_type": "code",
   "execution_count": 2,
   "id": "7e91fea9",
   "metadata": {},
   "outputs": [],
   "source": [
    "records = []\n",
    "for design in sorted(Path(\".\").glob(\"??_*\")):\n",
    "    cosim_time = None\n",
    "    for line in (design / \"vitis_hls.log\").read_text().splitlines():\n",
    "        if line.startswith(\"INFO: [HLS 200-111] Finished Command cosim_design \"):\n",
    "            match = re.search(r\"Elapsed time: (\\d+.\\d+) seconds\", line)\n",
    "            if match:\n",
    "                cosim_time = float(match.group(1))\n",
    "                break\n",
    "    assert cosim_time is not None\n",
    "\n",
    "    fe_compile_time = None\n",
    "    mt_exec_time = None\n",
    "    omnisim_cycles = None\n",
    "    for line in (design / \"omnisim.log\").read_text().splitlines():\n",
    "        if line.startswith(\"Front-end compilation time: \"):\n",
    "            fe_compile_time = float(\n",
    "                line.removeprefix(\"Front-end compilation time: \").removesuffix(\" seconds\")\n",
    "            )\n",
    "            continue\n",
    "        if line.startswith(\"Multi-threaded execution time: \"):\n",
    "            mt_exec_time = float(\n",
    "                line.removeprefix(\"Multi-threaded execution time: \").removesuffix(\" seconds\")\n",
    "            )\n",
    "            continue\n",
    "        if line.startswith(\"Took \") and line.endswith(\" cycles\"):\n",
    "            omnisim_cycles = int(line.split()[1])\n",
    "            continue\n",
    "        if line == \"unresolvable deadlock detected\":\n",
    "            omnisim_cycles = 0\n",
    "            continue\n",
    "    assert fe_compile_time is not None\n",
    "    assert mt_exec_time is not None\n",
    "    assert omnisim_cycles is not None\n",
    "\n",
    "    with zipfile.ZipFile(design / \"project/solution1/.autopilot/db/process_stalling_info/process.zip\") as z:\n",
    "        with z.open(\"module_status1.csv\") as f:\n",
    "            lines = f.read().decode().splitlines()\n",
    "            cosim_cycles = int(lines[5])\n",
    "            if cosim_cycles == 4294967295:\n",
    "                cosim_cycles = 0\n",
    "\n",
    "    records.append({\n",
    "        \"name\": design.name.split(\"_\", 1)[1],\n",
    "        \"cosim_time\": cosim_time,\n",
    "        \"fe_compile_time\": fe_compile_time,\n",
    "        \"mt_exec_time\": mt_exec_time,\n",
    "        \"omnisim_cycles\": omnisim_cycles,\n",
    "        \"cosim_cycles\": cosim_cycles,\n",
    "    })\n",
    "\n",
    "df = pd.DataFrame.from_records(records)\n",
    "df[\"cycle_percent_inaccuracy\"] = (df[\"omnisim_cycles\"] - df[\"cosim_cycles\"]) / df[\"cosim_cycles\"] * 100\n",
    "df[\"omnisim_time\"] = df[\"fe_compile_time\"] + df[\"mt_exec_time\"]\n",
    "df[\"speedup\"] = df[\"cosim_time\"] / df[\"omnisim_time\"]"
   ]
  },
  {
   "cell_type": "code",
   "execution_count": 3,
   "id": "7789248e",
   "metadata": {},
   "outputs": [
    {
     "data": {
      "text/html": [
       "<div>\n",
       "<style scoped>\n",
       "    .dataframe tbody tr th:only-of-type {\n",
       "        vertical-align: middle;\n",
       "    }\n",
       "\n",
       "    .dataframe tbody tr th {\n",
       "        vertical-align: top;\n",
       "    }\n",
       "\n",
       "    .dataframe thead th {\n",
       "        text-align: right;\n",
       "    }\n",
       "</style>\n",
       "<table border=\"1\" class=\"dataframe\">\n",
       "  <thead>\n",
       "    <tr style=\"text-align: right;\">\n",
       "      <th></th>\n",
       "      <th>name</th>\n",
       "      <th>cosim_time</th>\n",
       "      <th>fe_compile_time</th>\n",
       "      <th>mt_exec_time</th>\n",
       "      <th>omnisim_cycles</th>\n",
       "      <th>cosim_cycles</th>\n",
       "      <th>cycle_percent_inaccuracy</th>\n",
       "      <th>omnisim_time</th>\n",
       "      <th>speedup</th>\n",
       "    </tr>\n",
       "  </thead>\n",
       "  <tbody>\n",
       "    <tr>\n",
       "      <th>0</th>\n",
       "      <td>fig3_ex2</td>\n",
       "      <td>72.04</td>\n",
       "      <td>1.725833</td>\n",
       "      <td>0.413408</td>\n",
       "      <td>4057</td>\n",
       "      <td>4053</td>\n",
       "      <td>0.098692</td>\n",
       "      <td>2.139241</td>\n",
       "      <td>33.675495</td>\n",
       "    </tr>\n",
       "    <tr>\n",
       "      <th>1</th>\n",
       "      <td>fig3_ex3</td>\n",
       "      <td>66.51</td>\n",
       "      <td>1.735292</td>\n",
       "      <td>0.204823</td>\n",
       "      <td>4053</td>\n",
       "      <td>4051</td>\n",
       "      <td>0.049371</td>\n",
       "      <td>1.940115</td>\n",
       "      <td>34.281473</td>\n",
       "    </tr>\n",
       "    <tr>\n",
       "      <th>2</th>\n",
       "      <td>fig3_ex4a</td>\n",
       "      <td>70.74</td>\n",
       "      <td>1.725136</td>\n",
       "      <td>0.247570</td>\n",
       "      <td>2037</td>\n",
       "      <td>2037</td>\n",
       "      <td>0.000000</td>\n",
       "      <td>1.972706</td>\n",
       "      <td>35.859373</td>\n",
       "    </tr>\n",
       "    <tr>\n",
       "      <th>3</th>\n",
       "      <td>fig3_ex4a_d</td>\n",
       "      <td>70.05</td>\n",
       "      <td>1.752384</td>\n",
       "      <td>0.349511</td>\n",
       "      <td>2040</td>\n",
       "      <td>2036</td>\n",
       "      <td>0.196464</td>\n",
       "      <td>2.101895</td>\n",
       "      <td>33.327069</td>\n",
       "    </tr>\n",
       "    <tr>\n",
       "      <th>4</th>\n",
       "      <td>fig3_ex4b</td>\n",
       "      <td>70.80</td>\n",
       "      <td>1.786154</td>\n",
       "      <td>0.251942</td>\n",
       "      <td>2037</td>\n",
       "      <td>2037</td>\n",
       "      <td>0.000000</td>\n",
       "      <td>2.038096</td>\n",
       "      <td>34.738305</td>\n",
       "    </tr>\n",
       "    <tr>\n",
       "      <th>5</th>\n",
       "      <td>fig3_ex4b_d</td>\n",
       "      <td>70.66</td>\n",
       "      <td>1.758049</td>\n",
       "      <td>0.320482</td>\n",
       "      <td>2041</td>\n",
       "      <td>2039</td>\n",
       "      <td>0.098087</td>\n",
       "      <td>2.078531</td>\n",
       "      <td>33.995163</td>\n",
       "    </tr>\n",
       "    <tr>\n",
       "      <th>6</th>\n",
       "      <td>fig3_ex5</td>\n",
       "      <td>75.24</td>\n",
       "      <td>1.753140</td>\n",
       "      <td>0.346521</td>\n",
       "      <td>4060</td>\n",
       "      <td>4060</td>\n",
       "      <td>0.000000</td>\n",
       "      <td>2.099661</td>\n",
       "      <td>35.834356</td>\n",
       "    </tr>\n",
       "    <tr>\n",
       "      <th>7</th>\n",
       "      <td>fig2_timer</td>\n",
       "      <td>79.11</td>\n",
       "      <td>1.927649</td>\n",
       "      <td>1.786118</td>\n",
       "      <td>16202</td>\n",
       "      <td>16201</td>\n",
       "      <td>0.006172</td>\n",
       "      <td>3.713767</td>\n",
       "      <td>21.301821</td>\n",
       "    </tr>\n",
       "    <tr>\n",
       "      <th>8</th>\n",
       "      <td>deadlock</td>\n",
       "      <td>70.42</td>\n",
       "      <td>1.908086</td>\n",
       "      <td>0.508197</td>\n",
       "      <td>0</td>\n",
       "      <td>0</td>\n",
       "      <td>NaN</td>\n",
       "      <td>2.416283</td>\n",
       "      <td>29.143937</td>\n",
       "    </tr>\n",
       "  </tbody>\n",
       "</table>\n",
       "</div>"
      ],
      "text/plain": [
       "          name  cosim_time  fe_compile_time  mt_exec_time  omnisim_cycles  \\\n",
       "0     fig3_ex2       72.04         1.725833      0.413408            4057   \n",
       "1     fig3_ex3       66.51         1.735292      0.204823            4053   \n",
       "2    fig3_ex4a       70.74         1.725136      0.247570            2037   \n",
       "3  fig3_ex4a_d       70.05         1.752384      0.349511            2040   \n",
       "4    fig3_ex4b       70.80         1.786154      0.251942            2037   \n",
       "5  fig3_ex4b_d       70.66         1.758049      0.320482            2041   \n",
       "6     fig3_ex5       75.24         1.753140      0.346521            4060   \n",
       "7   fig2_timer       79.11         1.927649      1.786118           16202   \n",
       "8     deadlock       70.42         1.908086      0.508197               0   \n",
       "\n",
       "   cosim_cycles  cycle_percent_inaccuracy  omnisim_time    speedup  \n",
       "0          4053                  0.098692      2.139241  33.675495  \n",
       "1          4051                  0.049371      1.940115  34.281473  \n",
       "2          2037                  0.000000      1.972706  35.859373  \n",
       "3          2036                  0.196464      2.101895  33.327069  \n",
       "4          2037                  0.000000      2.038096  34.738305  \n",
       "5          2039                  0.098087      2.078531  33.995163  \n",
       "6          4060                  0.000000      2.099661  35.834356  \n",
       "7         16201                  0.006172      3.713767  21.301821  \n",
       "8             0                       NaN      2.416283  29.143937  "
      ]
     },
     "execution_count": 3,
     "metadata": {},
     "output_type": "execute_result"
    }
   ],
   "source": [
    "df"
   ]
  },
  {
   "cell_type": "code",
   "execution_count": 4,
   "id": "d1fce02d",
   "metadata": {},
   "outputs": [
    {
     "data": {
      "text/plain": [
       "32.1058995642145"
      ]
     },
     "execution_count": 4,
     "metadata": {},
     "output_type": "execute_result"
    }
   ],
   "source": [
    "from scipy.stats import gmean\n",
    "gmean(df[\"speedup\"])"
   ]
  },
  {
   "cell_type": "code",
   "execution_count": 19,
   "id": "9b936530",
   "metadata": {},
   "outputs": [
    {
     "data": {
      "image/png": "[encoded data removed]",
      "text/plain": [
       "<Figure size 600x400 with 2 Axes>"
      ]
     },
     "metadata": {},
     "output_type": "display_data"
    }
   ],
   "source": [
    "fig, (ax1, ax2) = plt.subplots(2, 1, figsize=(6, 4), sharex=True)\n",
    "tidy = df.rename(columns={\"name\": \"Design\", \"cosim_cycles\": \"Co-sim\", \"omnisim_cycles\": \"OmniSim\"}).melt(id_vars=(\"Design\",), value_vars=(\"Co-sim\", \"OmniSim\")).rename(columns={\"value\": \"Simulated clock cycles\", \"variable\": \"Simulation\"})\n",
    "sns.barplot(data=tidy, x=\"Design\", y=\"Simulated clock cycles\", hue=\"Simulation\", ax=ax1)\n",
    "sns.despine(fig)\n",
    "ax1.tick_params(axis=\"x\", rotation=45)\n",
    "ax1.yaxis.set_major_formatter(plt.FuncFormatter(lambda x, _: f\"{x / 1e3:.0f}K\" if x != 0 else \"0\"))\n",
    "\n",
    "for cosim_bar, omnisim_bar in zip(ax1.containers[0], ax1.containers[1]):\n",
    "    x1 = omnisim_bar.get_x()\n",
    "    w = omnisim_bar.get_width()\n",
    "    x2 = x1 + w\n",
    "    x = x1 + (w / 2)\n",
    "    y1 = cosim_bar.get_height()\n",
    "    y2 = omnisim_bar.get_height()\n",
    "    y = (y1 + y2) / 2\n",
    "\n",
    "    if y == 0:\n",
    "        ax1.text(x1, 0, \"Deadlock\\ndetected\", horizontalalignment=\"center\", verticalalignment=\"bottom\", fontsize=9)\n",
    "        _, ckmk_loc = ax1.transData.inverted().transform(ax1.transData.transform((x1, 0)) + np.array([0, 22]))\n",
    "        ax1.text(x1, ckmk_loc, \"\\u2713\", color=\"green\", horizontalalignment=\"center\", verticalalignment=\"bottom\", fontsize=24)\n",
    "        continue\n",
    "\n",
    "    lw = 1\n",
    "    ax1.plot([x1, x2], [y1, y1], color=\"green\", linestyle=\"--\", lw=lw)\n",
    "\n",
    "    if y1 == y2:\n",
    "        ax1.text(x, y1, \"Exact\", horizontalalignment=\"center\", verticalalignment=\"bottom\", fontsize=10, bbox=dict(fc=\"white\", pad=0, lw=0))\n",
    "        continue\n",
    "\n",
    "    ax1.plot([x1, x2], [y2, y2], color=\"green\", linestyle=\"--\", lw=lw)\n",
    "    ax1.plot([x, x], [y1, y2], color=\"green\", linestyle=\"-\", lw=lw)\n",
    "    ax1.text(x, y2, f\"{(y2 - y1) / y1:+.2%}\", horizontalalignment=\"center\", verticalalignment=\"bottom\", fontsize=8.5, bbox=dict(fc=\"white\", pad=0, lw=0))\n",
    "\n",
    "tidy1 = df.rename(columns={\"name\": \"Design\", \"cosim_time\": \"Co-sim\", \"omnisim_time\": \"OmniSim MT\"}).melt(id_vars=(\"Design\",), value_vars=(\"Co-sim\", \"OmniSim MT\")).rename(columns={\"value\": \"Simulation runtime (s)\", \"variable\": \"Simulation\"})\n",
    "bar1 = sns.barplot(data=tidy1, x=\"Design\", y=\"Simulation runtime (s)\", hue=\"Simulation\", ax=ax2)\n",
    "tidy2 = df.rename(columns={\"name\": \"Design\", \"fe_compile_time\": \"OmniSim FE\"}).melt(id_vars=(\"Design\",), value_vars=(\"OmniSim FE\",)).rename(columns={\"value\": \"Simulation runtime (s)\", \"variable\": \"Simulation\"})\n",
    "tidy2a = tidy2.copy()\n",
    "tidy2a[\"Simulation\"] = \"\"\n",
    "tidy2a[\"Simulation runtime (s)\"] = 0\n",
    "tidy2 = pd.concat([tidy2a, tidy2])\n",
    "bar2 = sns.barplot(data=tidy2, x=\"Design\", y=\"Simulation runtime (s)\", hue=\"Simulation\", ax=ax2, palette=\"light:purple\")\n",
    "sns.despine(fig)\n",
    "ax2.tick_params(axis=\"x\", rotation=20)\n",
    "\n",
    "for cosim_bar, omnisim_bar in zip(ax2.containers[0], ax2.containers[1]):\n",
    "    x1 = omnisim_bar.get_x()\n",
    "    w = omnisim_bar.get_width()\n",
    "    x2 = x1 + w\n",
    "    x = x1 + (w / 2)\n",
    "    y1 = cosim_bar.get_height()\n",
    "    y2 = omnisim_bar.get_height()\n",
    "    y = (y1 + y2) / 2\n",
    "    lw = 1\n",
    "    ax2.plot([x1, x2], [y1, y1], color=\"green\", linestyle=\"--\", lw=lw)\n",
    "    ax2.plot([x1, x2], [y2, y2], color=\"green\", linestyle=\"--\", lw=lw)\n",
    "    ax2.annotate(\"\", xytext=(x, y1), xy=(x, y2), arrowprops=dict(arrowstyle=\"->\", shrinkA=lw / 2, shrinkB=0, color=\"green\", lw=lw))\n",
    "    ax2.text(x, y, f\"{y1 / y2:.0f}\\u00D7\", fontsize=11, horizontalalignment=\"center\", verticalalignment=\"center_baseline\", bbox=dict(fc=\"white\", pad=1, lw=0))\n",
    "\n",
    "handles, labels = ax2.get_legend_handles_labels()\n",
    "order = [2]\n",
    "ax2.legend([handles[idx] for idx in order],[labels[idx] for idx in order], loc=\"upper left\")\n",
    "ax2.set_ylim(0, 95)\n",
    "\n",
    "ax1.set_title(\"$\\\\bf(a)\\\\ Accuracy$\\n(clock cycles)\", y=1.0, pad=-28)\n",
    "ax2.set_title(\"$\\\\bf(b)\\\\ Runtime$ (s)\", y=1.0, pad=-14)\n",
    "ax1.set_ylabel(\"\")\n",
    "ax2.set_ylabel(\"\")\n",
    "ax2.set_xlabel(\"\")\n",
    "fig.savefig(\"experiments.pdf\", bbox_inches=\"tight\")"
   ]
  },
  {
   "cell_type": "markdown",
   "id": "ed2fb963",
   "metadata": {},
   "source": []
  },
  {
   "cell_type": "markdown",
   "id": "9f6cdb98",
   "metadata": {},
   "source": []
  },
  {
   "cell_type": "code",
   "execution_count": 17,
   "id": "9e453a3d",
   "metadata": {},
   "outputs": [
    {
     "data": {
      "text/plain": [
       "0.05609828285960434"
      ]
     },
     "execution_count": 17,
     "metadata": {},
     "output_type": "execute_result"
    }
   ],
   "source": [
    "df[\"cycle_percent_inaccuracy\"].mean()"
   ]
  },
  {
   "cell_type": "code",
   "execution_count": 20,
   "id": "ba9e09d9",
   "metadata": {},
   "outputs": [
    {
     "data": {
      "text/plain": [
       "32.1058995642145"
      ]
     },
     "execution_count": 20,
     "metadata": {},
     "output_type": "execute_result"
    }
   ],
   "source": [
    "from scipy.stats import gmean\n",
    "gmean(df[\"speedup\"])"
   ]
  },
  {
   "cell_type": "code",
   "execution_count": 22,
   "id": "56d5424b",
   "metadata": {},
   "outputs": [
    {
     "data": {
      "text/plain": [
       "name                        fig3_ex4a\n",
       "cosim_time                      70.74\n",
       "fe_compile_time              1.725136\n",
       "mt_exec_time                  0.24757\n",
       "omnisim_cycles                   2037\n",
       "cosim_cycles                     2037\n",
       "cycle_percent_inaccuracy          0.0\n",
       "omnisim_time                 1.972706\n",
       "speedup                     35.859373\n",
       "Name: 2, dtype: object"
      ]
     },
     "execution_count": 22,
     "metadata": {},
     "output_type": "execute_result"
    }
   ],
   "source": [
    "df.iloc[df[\"speedup\"].argmax()]"
   ]
  },
  {
   "cell_type": "code",
   "execution_count": null,
   "id": "77aa1724",
   "metadata": {},
   "outputs": [],
   "source": []
  },
  {
   "cell_type": "code",
   "execution_count": 23,
   "id": "565ae613",
   "metadata": {},
   "outputs": [],
   "source": [
    "lsv2_bench = [\n",
    "    4.97,\n",
    "    2.43,\n",
    "    3.69,\n",
    "    2.42,\n",
    "    2.12,\n",
    "    2.34,\n",
    "    2.24,\n",
    "    2.25,\n",
    "    2.27,\n",
    "    2.23,\n",
    "    2.29,\n",
    "    2.30,\n",
    "    2.29,\n",
    "    2.18,\n",
    "    2.15,\n",
    "    2.14,\n",
    "    2.19,\n",
    "    2.06,\n",
    "    2.18,\n",
    "    2.20,\n",
    "    2.21,\n",
    "    2.37,\n",
    "    2.78,\n",
    "    2.67,\n",
    "    2.63,\n",
    "    2.61,\n",
    "    2.27,\n",
    "    4.48,\n",
    "    28.9,\n",
    "    30.9,\n",
    "    41.6,\n",
    "    30.5,\n",
    "    26.9,\n",
    "    2.14*60,\n",
    "    51.71*60,\n",
    "]\n",
    "assert len(lsv2_bench) == 35"
   ]
  },
  {
   "cell_type": "code",
   "execution_count": 24,
   "id": "69a04095",
   "metadata": {},
   "outputs": [
    {
     "name": "stdout",
     "output_type": "stream",
     "text": [
      "3.65 & 3.42 & 0.23 & 1.36\\texttimes{} \\\\\n",
      "1.94 & 1.74 & 0.20 & 1.25\\texttimes{} \\\\\n",
      "3.15 & 2.77 & 0.38 & 1.17\\texttimes{} \\\\\n",
      "2.46 & 2.11 & 0.35 & 0.98\\texttimes{} \\\\\n",
      "2.03 & 1.81 & 0.22 & 1.04\\texttimes{} \\\\\n",
      "2.16 & 1.94 & 0.23 & 1.08\\texttimes{} \\\\\n",
      "2.13 & 1.91 & 0.23 & 1.05\\texttimes{} \\\\\n",
      "2.14 & 1.91 & 0.23 & 1.05\\texttimes{} \\\\\n",
      "2.12 & 1.90 & 0.22 & 1.07\\texttimes{} \\\\\n",
      "2.19 & 1.96 & 0.23 & 1.02\\texttimes{} \\\\\n",
      "2.20 & 1.98 & 0.22 & 1.04\\texttimes{} \\\\\n",
      "2.30 & 2.08 & 0.22 & 1.00\\texttimes{} \\\\\n",
      "2.19 & 1.95 & 0.24 & 1.05\\texttimes{} \\\\\n",
      "2.12 & 1.92 & 0.19 & 1.03\\texttimes{} \\\\\n",
      "2.13 & 1.94 & 0.19 & 1.01\\texttimes{} \\\\\n",
      "1.91 & 1.71 & 0.19 & 1.12\\texttimes{} \\\\\n",
      "2.07 & 1.90 & 0.17 & 1.06\\texttimes{} \\\\\n",
      "1.94 & 1.77 & 0.17 & 1.06\\texttimes{} \\\\\n",
      "2.08 & 1.87 & 0.21 & 1.05\\texttimes{} \\\\\n",
      "2.05 & 1.84 & 0.21 & 1.07\\texttimes{} \\\\\n",
      "2.05 & 1.85 & 0.19 & 1.08\\texttimes{} \\\\\n",
      "2.46 & 2.13 & 0.33 & 0.96\\texttimes{} \\\\\n",
      "2.91 & 2.28 & 0.63 & 0.95\\texttimes{} \\\\\n",
      "2.93 & 2.29 & 0.64 & 0.91\\texttimes{} \\\\\n",
      "2.32 & 1.99 & 0.33 & 1.13\\texttimes{} \\\\\n",
      "2.59 & 2.38 & 0.21 & 1.01\\texttimes{} \\\\\n",
      "2.15 & 1.96 & 0.18 & 1.06\\texttimes{} \\\\\n",
      "3.56 & 2.17 & 1.39 & 1.26\\texttimes{} \\\\\n",
      "11.97 & 8.88 & 3.08 & 2.42\\texttimes{} \\\\\n",
      "17.18 & 11.38 & 5.80 & 1.80\\texttimes{} \\\\\n",
      "24.60 & 20.53 & 4.07 & 1.69\\texttimes{} \\\\\n",
      "29.00 & 23.30 & 5.70 & 1.05\\texttimes{} \\\\\n",
      "11.71 & 6.92 & 4.79 & 2.30\\texttimes{} \\\\\n",
      "26.39 & 9.88 & 16.51 & 4.87\\texttimes{} \\\\\n",
      "469.3 & 7.55 & 461.8 & 6.61\\texttimes{} \\\\\n"
     ]
    }
   ],
   "source": [
    "lsv2_speedups = []\n",
    "for i, lsv2_time in enumerate(lsv2_bench):\n",
    "    design, = Path(f\"..\").glob(f\"{i + 1:02d}_*\")\n",
    "\n",
    "    fe_compile_time = None\n",
    "    mt_exec_time = None\n",
    "    for line in (design / \"omnisim.log\").read_text().splitlines():\n",
    "        if line.startswith(\"Front-end compilation time: \"):\n",
    "            fe_compile_time = float(\n",
    "                line.removeprefix(\"Front-end compilation time: \").removesuffix(\" seconds\")\n",
    "            )\n",
    "            continue\n",
    "        if line.startswith(\"Multi-threaded execution time: \"):\n",
    "            mt_exec_time = float(\n",
    "                line.removeprefix(\"Multi-threaded execution time: \").removesuffix(\" seconds\")\n",
    "            )\n",
    "            continue\n",
    "    assert fe_compile_time is not None\n",
    "    assert mt_exec_time is not None\n",
    "\n",
    "    def fmt(num: float):\n",
    "        if num < 100:\n",
    "            return f\"{num:.2f}\"\n",
    "        return f\"{num:.1f}\"\n",
    "\n",
    "    omnisim_time = fe_compile_time + mt_exec_time\n",
    "    speedup = lsv2_time / omnisim_time\n",
    "    print(f\"{fmt(omnisim_time)} & {fmt(fe_compile_time)} & {fmt(mt_exec_time)} & {speedup:.2f}\\\\texttimes{{}} \\\\\\\\\")\n",
    "    lsv2_speedups.append(speedup)"
   ]
  },
  {
   "cell_type": "code",
   "execution_count": 25,
   "id": "a2f203aa",
   "metadata": {},
   "outputs": [
    {
     "data": {
      "text/plain": [
       "1.2611466476172273"
      ]
     },
     "execution_count": 25,
     "metadata": {},
     "output_type": "execute_result"
    }
   ],
   "source": [
    "from scipy.stats import gmean\n",
    "gmean(lsv2_speedups)"
   ]
  },
  {
   "cell_type": "code",
   "execution_count": null,
   "id": "f549d865",
   "metadata": {},
   "outputs": [],
   "source": []
  },
  {
   "cell_type": "code",
   "execution_count": null,
   "id": "c28d7606",
   "metadata": {},
   "outputs": [],
   "source": [
    "for design in sorted(Path(\".\").glob(\"??_*\")):\n",
    "    print(design.name)\n",
    "    for line in (design / \"vitis_hls.log\").read_text().splitlines():\n",
    "        if line.startswith(\"INFO: [HLS 200-111] Finished Command cosim_design \"):\n",
    "            match = re.search(r\"Elapsed time: (\\d+.\\d+) seconds\", line)\n",
    "            if match:\n",
    "                cosim_time = float(match.group(1))\n",
    "                break"
   ]
  }
 ],
 "metadata": {
  "kernelspec": {
   "display_name": "miniconda",
   "language": "python",
   "name": "python3"
  },
  "language_info": {
   "codemirror_mode": {
    "name": "ipython",
    "version": 3
   },
   "file_extension": ".py",
   "mimetype": "text/x-python",
   "name": "python",
   "nbconvert_exporter": "python",
   "pygments_lexer": "ipython3",
   "version": "3.11.0"
  }
 },
 "nbformat": 4,
 "nbformat_minor": 5
}
